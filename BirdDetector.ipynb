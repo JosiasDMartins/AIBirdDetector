{
 "cells": [
  {
   "cell_type": "markdown",
   "id": "ad1702fb-b414-415c-ac15-6e025aa3d232",
   "metadata": {},
   "source": [
    "*General dependencies*"
   ]
  },
  {
   "cell_type": "code",
   "execution_count": 7,
   "id": "656553f7-66cb-43b4-8cda-9d9e039ddfee",
   "metadata": {},
   "outputs": [],
   "source": [
    "#!pip install numpy\n",
    "#!pip install matplotlib\n",
    "\n",
    "#We will use virtualenv to create a separate envinment\n",
    "#!pip install virtualenv"
   ]
  },
  {
   "cell_type": "code",
   "execution_count": 8,
   "id": "dc6f293d-3910-4131-a9b1-22a721bc16ac",
   "metadata": {},
   "outputs": [
    {
     "name": "stdout",
     "output_type": "stream",
     "text": [
      "created virtual environment CPython3.8.17.final.0-64 in 1065ms\n",
      "  creator CPython3Windows(dest=D:\\UsersFiles\\JosiasMartins\\qSyncDrive\\Jupyter\\2-Capstone\\AIBirdDetecor\\AIBirdDetector\\TF_GPU, clear=False, no_vcs_ignore=False, global=False)\n",
      "  seeder FromAppData(download=False, pip=bundle, setuptools=bundle, wheel=bundle, via=copy, app_data_dir=C:\\Users\\josia\\AppData\\Local\\pypa\\virtualenv)\n",
      "    added seed packages: pip==23.2.1, setuptools==68.2.0, wheel==0.41.2\n",
      "  activators BashActivator,BatchActivator,FishActivator,NushellActivator,PowerShellActivator,PythonActivator\n"
     ]
    }
   ],
   "source": [
    "#Activating the separate environment\n",
    "\n",
    "!virtualenv TF_GPU"
   ]
  },
  {
   "cell_type": "markdown",
   "id": "2e373d14-2524-4cfa-9bba-c46a5afae988",
   "metadata": {},
   "source": [
    "**Install TensorFlow and OpenCV with CUDA**\n",
    "\n",
    "https://thinkinfi.com/conda-install-tensorflow-gpu-jupyter/\n",
    "\n",
    "- First: Install CUDA Drivers\n",
    "  \n",
    "TensorFlow and CUDA drivers are directly conected, you need to install the correct version of each one.\n",
    "In the link below, you can find a tabble with the TF version and Supported CUDA\n",
    "https://www.tensorflow.org/install/source\n",
    "\n",
    "\n",
    "For this project, we will be using TD 2.10, because they are not compiling TF-GPU for Windows after the 2.10 version.\n",
    "Dur to this, we will need to install CUDA 11 drivers.\n",
    "\n",
    "You can download the NVIDIA CUDA drivers from the link: \n",
    "\n",
    "https://developer.nvidia.com/cuda-11-8-0-download-archive?target_os=Windows&target_arch=x86_64&target_version=11&target_type=exe_local\n",
    "\n",
    "- Install cuDNN\n",
    "\n",
    "  \n",
    "  To have support of Deep Neural Network through CUDA, you need to install cuDNN.\n",
    "  cuDNN is compiled for the specific CUDA driver version too, you can download the correct version for you CUDA installation from the link (for CUDA 11 in our case):\n",
    "  \n",
    "  https://developer.nvidia.com/rdp/cudnn-archive\n",
    "\n",
    "\n",
    "  After, extract the files, and copy each dll and .h from its folder to the same folder in CUDA Driver Directory installation.\n",
    "\n",
    "  For example:\n",
    "      Copy all \"lib\\x64\\*.dll\" to \"C:\\Program Files\\NVIDIA GPU Computing Toolkit\\CUDA\\v11.8\\lib\"\n",
    "\n",
    "\n",
    "      Do it for the include and lib files too.\n",
    "\n",
    "  Now, you are prepared to install TensorFlow GPU."
   ]
  },
  {
   "cell_type": "code",
   "execution_count": 9,
   "id": "76ed67ee-6ff0-470d-8aca-7a50b33e293c",
   "metadata": {},
   "outputs": [],
   "source": [
    "try:\n",
    "    import tensorflow as tf\n",
    "except ImportError:\n",
    "    #Installing TensorFlow GPU 2.10 to use CUDA 11\n",
    "    !pip install tensorflow-gpu==2.10"
   ]
  },
  {
   "cell_type": "code",
   "execution_count": 10,
   "id": "36c359ea-df79-4eaa-b5c1-c5f14b5e520a",
   "metadata": {},
   "outputs": [],
   "source": [
    "#Importing tensorflow and keras API\n",
    "from tensorflow import keras\n",
    "\n",
    "# Importing numpy and pyplot\n",
    "import numpy as np\n",
    "import matplotlib.pyplot as plt\n",
    "import pandas as pd\n",
    "import os\n",
    "#import cv2  # ou from PIL import Image"
   ]
  },
  {
   "cell_type": "code",
   "execution_count": 11,
   "id": "6db798b7-987d-4d33-8120-cfb5986a1b80",
   "metadata": {},
   "outputs": [
    {
     "name": "stdout",
     "output_type": "stream",
     "text": [
      "Versão do TensorFlow: 2.10.0\n",
      "Suporte ao CUDA: True\n",
      "GPU disponível: [PhysicalDevice(name='/physical_device:GPU:0', device_type='GPU')]\n"
     ]
    }
   ],
   "source": [
    "print(\"Versão do TensorFlow:\", tf.__version__)    #Checking TensorFlow version\n",
    "print(\"Suporte ao CUDA:\", tf.test.is_built_with_cuda())  #Checking CUDA support\n",
    "print(\"GPU disponível:\", tf.config.list_physical_devices('GPU')) #Checking available GPUs"
   ]
  },
  {
   "cell_type": "code",
   "execution_count": 12,
   "id": "391e8091-0fe2-4133-9de9-dfda9ccefdd2",
   "metadata": {},
   "outputs": [],
   "source": [
    "df = pd.read_csv('../BirdsDataset/birds.csv')"
   ]
  },
  {
   "cell_type": "code",
   "execution_count": 13,
   "id": "278da9b7-9f42-43ee-855a-ddc3b9fb7379",
   "metadata": {},
   "outputs": [
    {
     "data": {
      "text/html": [
       "<div>\n",
       "<style scoped>\n",
       "    .dataframe tbody tr th:only-of-type {\n",
       "        vertical-align: middle;\n",
       "    }\n",
       "\n",
       "    .dataframe tbody tr th {\n",
       "        vertical-align: top;\n",
       "    }\n",
       "\n",
       "    .dataframe thead th {\n",
       "        text-align: right;\n",
       "    }\n",
       "</style>\n",
       "<table border=\"1\" class=\"dataframe\">\n",
       "  <thead>\n",
       "    <tr style=\"text-align: right;\">\n",
       "      <th></th>\n",
       "      <th>class id</th>\n",
       "      <th>filepaths</th>\n",
       "      <th>labels</th>\n",
       "      <th>data set</th>\n",
       "      <th>scientific name</th>\n",
       "    </tr>\n",
       "  </thead>\n",
       "  <tbody>\n",
       "    <tr>\n",
       "      <th>0</th>\n",
       "      <td>0.0</td>\n",
       "      <td>train/ABBOTTS BABBLER/001.jpg</td>\n",
       "      <td>ABBOTTS BABBLER</td>\n",
       "      <td>train</td>\n",
       "      <td>MALACOCINCLA ABBOTTI</td>\n",
       "    </tr>\n",
       "    <tr>\n",
       "      <th>1</th>\n",
       "      <td>0.0</td>\n",
       "      <td>train/ABBOTTS BABBLER/007.jpg</td>\n",
       "      <td>ABBOTTS BABBLER</td>\n",
       "      <td>train</td>\n",
       "      <td>MALACOCINCLA ABBOTTI</td>\n",
       "    </tr>\n",
       "    <tr>\n",
       "      <th>2</th>\n",
       "      <td>0.0</td>\n",
       "      <td>train/ABBOTTS BABBLER/008.jpg</td>\n",
       "      <td>ABBOTTS BABBLER</td>\n",
       "      <td>train</td>\n",
       "      <td>MALACOCINCLA ABBOTTI</td>\n",
       "    </tr>\n",
       "    <tr>\n",
       "      <th>3</th>\n",
       "      <td>0.0</td>\n",
       "      <td>train/ABBOTTS BABBLER/009.jpg</td>\n",
       "      <td>ABBOTTS BABBLER</td>\n",
       "      <td>train</td>\n",
       "      <td>MALACOCINCLA ABBOTTI</td>\n",
       "    </tr>\n",
       "  </tbody>\n",
       "</table>\n",
       "</div>"
      ],
      "text/plain": [
       "   class id                      filepaths           labels data set  \\\n",
       "0       0.0  train/ABBOTTS BABBLER/001.jpg  ABBOTTS BABBLER    train   \n",
       "1       0.0  train/ABBOTTS BABBLER/007.jpg  ABBOTTS BABBLER    train   \n",
       "2       0.0  train/ABBOTTS BABBLER/008.jpg  ABBOTTS BABBLER    train   \n",
       "3       0.0  train/ABBOTTS BABBLER/009.jpg  ABBOTTS BABBLER    train   \n",
       "\n",
       "        scientific name  \n",
       "0  MALACOCINCLA ABBOTTI  \n",
       "1  MALACOCINCLA ABBOTTI  \n",
       "2  MALACOCINCLA ABBOTTI  \n",
       "3  MALACOCINCLA ABBOTTI  "
      ]
     },
     "execution_count": 13,
     "metadata": {},
     "output_type": "execute_result"
    }
   ],
   "source": [
    "df.head(4)"
   ]
  },
  {
   "cell_type": "code",
   "execution_count": 14,
   "id": "3487f262-ff8d-4e3f-9f65-2d2e34e2e582",
   "metadata": {},
   "outputs": [],
   "source": [
    "for index, row in df.iterrows():\n",
    "    path='../BirdsDataset/' + row['filepaths']    #Creating the path\n",
    "    image_path = os.path.join(path)               #Creating the OS Path to the image\n",
    "    class_name = row['labels']                    #labels\n",
    "    class_id = row['class id']                    #class ID\n",
    "    \n",
    "    #image = cv2.imread(image_path)                #Import the image using OpenCV"
   ]
  },
  {
   "cell_type": "code",
   "execution_count": null,
   "id": "167c1d80-527f-42e7-aab1-a3cbfeb4f6f2",
   "metadata": {},
   "outputs": [],
   "source": []
  },
  {
   "cell_type": "code",
   "execution_count": null,
   "id": "24a48780-8a19-48ef-b496-4c1104e03705",
   "metadata": {},
   "outputs": [],
   "source": []
  }
 ],
 "metadata": {
  "kernelspec": {
   "display_name": "Python 3 (ipykernel)",
   "language": "python",
   "name": "python3"
  },
  "language_info": {
   "codemirror_mode": {
    "name": "ipython",
    "version": 3
   },
   "file_extension": ".py",
   "mimetype": "text/x-python",
   "name": "python",
   "nbconvert_exporter": "python",
   "pygments_lexer": "ipython3",
   "version": "3.8.17"
  }
 },
 "nbformat": 4,
 "nbformat_minor": 5
}
